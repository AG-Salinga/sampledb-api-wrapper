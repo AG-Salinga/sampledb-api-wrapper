{
 "cells": [
  {
   "cell_type": "markdown",
   "metadata": {},
   "source": [
    "# `sampledbapi` examples\n",
    "\n",
    "## Import"
   ]
  },
  {
   "cell_type": "code",
   "execution_count": 15,
   "metadata": {},
   "outputs": [],
   "source": [
    "from sampledbapi import *"
   ]
  },
  {
   "cell_type": "markdown",
   "metadata": {},
   "source": [
    "## Authenticate"
   ]
  },
  {
   "cell_type": "code",
   "execution_count": 16,
   "metadata": {},
   "outputs": [],
   "source": [
    "server_address = \"https://...\"\n",
    "api_key = \"46b6eb84665a7530efafc340edce89013527d379b988edec83b9149a5d810082\"\n",
    "authenticate(server_address, api_key)"
   ]
  },
  {
   "cell_type": "markdown",
   "metadata": {},
   "source": [
    "## Get list of all objects accessible to the user"
   ]
  },
  {
   "cell_type": "code",
   "execution_count": 17,
   "metadata": {},
   "outputs": [
    {
     "data": {
      "text/plain": [
       "[<sampledbapi.objects.Object at 0x7f1c8ac56ef0>,\n",
       " <sampledbapi.objects.Object at 0x7f1c8ac56320>,\n",
       " <sampledbapi.objects.Object at 0x7f1c8ac56710>,\n",
       " <sampledbapi.objects.Object at 0x7f1c8ac56e48>,\n",
       " <sampledbapi.objects.Object at 0x7f1c8ac466d8>,\n",
       " <sampledbapi.objects.Object at 0x7f1c8ac46710>,\n",
       " <sampledbapi.objects.Object at 0x7f1c8ac46080>,\n",
       " <sampledbapi.objects.Object at 0x7f1c8ac469e8>,\n",
       " <sampledbapi.objects.Object at 0x7f1c8ac466a0>,\n",
       " <sampledbapi.objects.Object at 0x7f1c8ac468d0>,\n",
       " <sampledbapi.objects.Object at 0x7f1c8ac46a58>,\n",
       " <sampledbapi.objects.Object at 0x7f1c8ac467b8>,\n",
       " <sampledbapi.objects.Object at 0x7f1c8ac5cc50>,\n",
       " <sampledbapi.objects.Object at 0x7f1c8ac5ce80>,\n",
       " <sampledbapi.objects.Object at 0x7f1c8ac5c7f0>,\n",
       " <sampledbapi.objects.Object at 0x7f1c8ac5c438>,\n",
       " <sampledbapi.objects.Object at 0x7f1c8ac5ccc0>,\n",
       " <sampledbapi.objects.Object at 0x7f1c8ac5cf28>,\n",
       " <sampledbapi.objects.Object at 0x7f1c8ac5c978>,\n",
       " <sampledbapi.objects.Object at 0x7f1c8ac5c550>,\n",
       " <sampledbapi.objects.Object at 0x7f1c8ac5c2b0>,\n",
       " <sampledbapi.objects.Object at 0x7f1c8ac5ca90>,\n",
       " <sampledbapi.objects.Object at 0x7f1c8ac5c0b8>,\n",
       " <sampledbapi.objects.Object at 0x7f1c8ac5cd68>,\n",
       " <sampledbapi.objects.Object at 0x7f1c8ac5c128>,\n",
       " <sampledbapi.objects.Object at 0x7f1c8ac5ce10>,\n",
       " <sampledbapi.objects.Object at 0x7f1c8ac5cda0>,\n",
       " <sampledbapi.objects.Object at 0x7f1c8ac5cdd8>,\n",
       " <sampledbapi.objects.Object at 0x7f1c8ac5cd30>,\n",
       " <sampledbapi.objects.Object at 0x7f1c8ac5ccf8>,\n",
       " <sampledbapi.objects.Object at 0x7f1c8ac5ce48>,\n",
       " <sampledbapi.objects.Object at 0x7f1c8ac5c828>,\n",
       " <sampledbapi.objects.Object at 0x7f1c8ac5c860>,\n",
       " <sampledbapi.objects.Object at 0x7f1c8ac5cef0>,\n",
       " <sampledbapi.objects.Object at 0x7f1c8ac5c198>,\n",
       " <sampledbapi.objects.Object at 0x7f1c8ac5cf60>,\n",
       " <sampledbapi.objects.Object at 0x7f1c8ac5ceb8>,\n",
       " <sampledbapi.objects.Object at 0x7f1c8ac5c710>]"
      ]
     },
     "execution_count": 17,
     "metadata": {},
     "output_type": "execute_result"
    }
   ],
   "source": [
    "objects.getList()"
   ]
  },
  {
   "cell_type": "markdown",
   "metadata": {},
   "source": [
    "## Get list of files for an object and file content"
   ]
  },
  {
   "cell_type": "code",
   "execution_count": 18,
   "metadata": {},
   "outputs": [
    {
     "data": {
      "text/plain": [
       "[{'object_id': 1,\n",
       "  'file_id': 0,\n",
       "  'storage': 'local',\n",
       "  'original_file_name': '1.1534582.pdf'},\n",
       " {'object_id': 1, 'file_id': 1, 'storage': 'url', 'url': 'https://heise.de'},\n",
       " {'object_id': 1,\n",
       "  'file_id': 2,\n",
       "  'storage': 'local',\n",
       "  'original_file_name': 'test.py'},\n",
       " {'object_id': 1,\n",
       "  'file_id': 3,\n",
       "  'storage': 'local',\n",
       "  'original_file_name': 'setup.py'},\n",
       " {'object_id': 1,\n",
       "  'file_id': 4,\n",
       "  'storage': 'local',\n",
       "  'original_file_name': 'Hello.txt'}]"
      ]
     },
     "execution_count": 18,
     "metadata": {},
     "output_type": "execute_result"
    }
   ],
   "source": [
    "objects.getFileList(object_id=1)"
   ]
  },
  {
   "cell_type": "code",
   "execution_count": 19,
   "metadata": {},
   "outputs": [
    {
     "data": {
      "text/plain": [
       "{'object_id': 1,\n",
       " 'file_id': 2,\n",
       " 'storage': 'local',\n",
       " 'original_file_name': 'test.py',\n",
       " 'base64_content': 'aW1wb3J0IGFyZ3BhcnNlCgpmcm9tIHNhbXBsZWRiYXBpIGltcG9ydCAqCgpwYXJzZXIgPSBhcmdwYXJzZS5Bcmd1bWVudFBhcnNlcigpCnBhcnNlci5hZGRfYXJndW1lbnQoImFkZHJlc3MiLCBoZWxwPSJBZGRyZXNzIG9mIHRoZSBTYW1wbGVEQiBzZXJ2ZXIgdG8gdXNlLiIpCnBhcnNlci5hZGRfYXJndW1lbnQoImFwaV9rZXkiLCBoZWxwPSJBUEkgdG9rZW4uIikKYXJncyA9IHBhcnNlci5wYXJzZV9hcmdzKCkKCmF1dGhlbnRpY2F0ZShhcmdzLmFkZHJlc3MsIGFyZ3MuYXBpX2tleSkKIyBwcmludChvYmplY3RzLmdldExpc3QoKSkKIyBwcmludChvYmplY3RzLmdldCgxMjMpKQpwcmludChpbnN0cnVtZW50cy5nZXRMaXN0KCkpCnByaW50KGluc3RydW1lbnRzLmdldCgxKSkK'}"
      ]
     },
     "execution_count": 19,
     "metadata": {},
     "output_type": "execute_result"
    }
   ],
   "source": [
    "objects.getFileInfo(1, 2)"
   ]
  },
  {
   "cell_type": "markdown",
   "metadata": {},
   "source": [
    "## Upload a file"
   ]
  },
  {
   "cell_type": "code",
   "execution_count": 20,
   "metadata": {},
   "outputs": [],
   "source": [
    "import os\n",
    "\n",
    "fn = \"Hello.txt\"\n",
    "\n",
    "with open(fn, \"w\") as f:\n",
    "    f.write(\"Hello world!\")\n",
    "objects.uploadFile(1, fn)\n",
    "os.remove(fn)"
   ]
  },
  {
   "cell_type": "markdown",
   "metadata": {},
   "source": [
    "## Advanced search and plotting data from the database"
   ]
  },
  {
   "cell_type": "code",
   "execution_count": 21,
   "metadata": {},
   "outputs": [
    {
     "data": {
      "text/plain": [
       "[<sampledbapi.objects.Object at 0x7f1c8abd2dd8>,\n",
       " <sampledbapi.objects.Object at 0x7f1c8abd2c18>,\n",
       " <sampledbapi.objects.Object at 0x7f1c8abd2d68>,\n",
       " <sampledbapi.objects.Object at 0x7f1c8abd2b00>,\n",
       " <sampledbapi.objects.Object at 0x7f1c8abd2e80>]"
      ]
     },
     "execution_count": 21,
     "metadata": {},
     "output_type": "execute_result"
    }
   ],
   "source": [
    "measurements = objects.getList(q=\"\\\"Sb\\\" in material\")\n",
    "measurements"
   ]
  },
  {
   "cell_type": "code",
   "execution_count": 22,
   "metadata": {},
   "outputs": [],
   "source": [
    "thickness, time, power = [], [], []\n",
    "for m in measurements:\n",
    "    thickness.append(m.data[\"layer_thickness\"][\"magnitude_in_base_units\"])\n",
    "    time.append(m.data[\"sputtering_time\"][\"magnitude_in_base_units\"])\n",
    "    power.append(m.data[\"sputtering_power\"][\"magnitude_in_base_units\"])"
   ]
  },
  {
   "cell_type": "code",
   "execution_count": 23,
   "metadata": {},
   "outputs": [
    {
     "data": {
      "text/plain": [
       "Text(0, 0.5, 'Target thickness / nm')"
      ]
     },
     "execution_count": 23,
     "metadata": {},
     "output_type": "execute_result"
    },
    {
     "data": {
      "image/png": "[encoded data removed]",
      "text/plain": [
       "<Figure size 600x450 with 1 Axes>"
      ]
     },
     "metadata": {
      "needs_background": "light"
     },
     "output_type": "display_data"
    }
   ],
   "source": [
    "import matplotlib.pyplot as plt\n",
    "import numpy as np\n",
    "\n",
    "thickness = np.array(thickness) * 1e9  # in nm\n",
    "time, power = np.array(time), np.array(power)\n",
    "\n",
    "plt.figure(figsize=(4, 3), dpi=150)\n",
    "plt.plot(time, thickness, \".\")\n",
    "plt.xlabel(\"Sputtering time / s\")\n",
    "plt.ylabel(\"Target thickness / nm\")"
   ]
  }
 ],
 "metadata": {
  "interpreter": {
   "hash": "31f2aee4e71d21fbe5cf8b01ff0e069b9275f58929596ceb00d14d90e3e16cd6"
  },
  "kernelspec": {
   "display_name": "Python 3.6.15 64-bit",
   "language": "python",
   "name": "python3"
  },
  "language_info": {
   "codemirror_mode": {
    "name": "ipython",
    "version": 3
   },
   "file_extension": ".py",
   "mimetype": "text/x-python",
   "name": "python",
   "nbconvert_exporter": "python",
   "pygments_lexer": "ipython3",
   "version": "3.6.15"
  },
  "orig_nbformat": 4
 },
 "nbformat": 4,
 "nbformat_minor": 2
}
